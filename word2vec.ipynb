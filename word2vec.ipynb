{
 "cells": [
  {
   "cell_type": "code",
   "execution_count": null,
   "id": "f2cce9f0-4fc3-4f58-b0db-25463f827052",
   "metadata": {},
   "outputs": [],
   "source": [
    "# ! pip install xgboost"
   ]
  },
  {
   "cell_type": "code",
   "execution_count": 1,
   "id": "f9a83969-471a-4b4d-9ff3-e936245698f4",
   "metadata": {},
   "outputs": [],
   "source": [
    "# Import basic libraries\n",
    "\n",
    "import pandas as pd\n",
    "import numpy as np\n",
    "import matplotlib.pyplot as plt\n",
    "%matplotlib inline"
   ]
  },
  {
   "cell_type": "code",
   "execution_count": 2,
   "id": "686d015e-f821-4f39-b621-c8fe297c9c5a",
   "metadata": {},
   "outputs": [],
   "source": [
    "df = pd.read_csv('Dataset/phishing_site_urls.csv')"
   ]
  },
  {
   "cell_type": "code",
   "execution_count": null,
   "id": "280ecd1a-a4bf-4aa6-a620-b06148633463",
   "metadata": {},
   "outputs": [],
   "source": [
    "df.head()"
   ]
  },
  {
   "cell_type": "code",
   "execution_count": null,
   "id": "770579c7-49c0-43c1-a2dd-463765a6bae4",
   "metadata": {},
   "outputs": [],
   "source": [
    "df.shape"
   ]
  },
  {
   "cell_type": "code",
   "execution_count": null,
   "id": "dc904ac2-4bcc-48d9-ae69-39c5f59953be",
   "metadata": {},
   "outputs": [],
   "source": [
    "df.info()"
   ]
  },
  {
   "cell_type": "code",
   "execution_count": null,
   "id": "11093ccf-ab62-4be1-85ee-ad4fc0eab6a8",
   "metadata": {},
   "outputs": [],
   "source": [
    "df.isnull().sum()"
   ]
  },
  {
   "cell_type": "code",
   "execution_count": null,
   "id": "242c7829-22a9-457f-bf21-0120a911ba58",
   "metadata": {},
   "outputs": [],
   "source": [
    "df.Label.value_counts()"
   ]
  },
  {
   "cell_type": "code",
   "execution_count": null,
   "id": "9c74610f-8c66-4c0c-9536-a60cd9a481ea",
   "metadata": {},
   "outputs": [],
   "source": [
    "import re"
   ]
  },
  {
   "cell_type": "code",
   "execution_count": null,
   "id": "6430471f-8e2b-48d2-b569-02e789bb2d05",
   "metadata": {},
   "outputs": [],
   "source": [
    "def tokenize_url(url):\n",
    "    return re.split(r'\\W+', url)"
   ]
  },
  {
   "cell_type": "code",
   "execution_count": null,
   "id": "a5f445ef-95d0-412f-8c6e-795d559ddc95",
   "metadata": {},
   "outputs": [],
   "source": [
    "df['tokens'] = df['URL'].apply(tokenize_url)"
   ]
  },
  {
   "cell_type": "code",
   "execution_count": null,
   "id": "8eef62bd-fe52-491a-9db8-55610c8307ca",
   "metadata": {},
   "outputs": [],
   "source": [
    "from gensim.models import Word2Vec"
   ]
  },
  {
   "cell_type": "code",
   "execution_count": null,
   "id": "965104bc-fabd-4461-b115-f5e95821e212",
   "metadata": {},
   "outputs": [],
   "source": [
    "# Train Word2Vec on tokenized URLs\n",
    "w2v_model = Word2Vec(sentences=df['tokens'], vector_size=100, window=5, min_count=1, workers=4)"
   ]
  },
  {
   "cell_type": "code",
   "execution_count": null,
   "id": "fefc5bbf-373c-4beb-a8c9-ed76dfa033cd",
   "metadata": {},
   "outputs": [],
   "source": [
    "# Create URL embedding by averaging token vectors\n",
    "def get_embedding(tokens):\n",
    "    valid_tokens = [t for t in tokens if t in w2v_model.wv]\n",
    "    if not valid_tokens:\n",
    "        return np.zeros(w2v_model.vector_size)\n",
    "    return np.mean([w2v_model.wv[t] for t in valid_tokens], axis=0)"
   ]
  },
  {
   "cell_type": "code",
   "execution_count": null,
   "id": "d7c4007f-2945-486d-a1a7-32261db186bb",
   "metadata": {},
   "outputs": [],
   "source": [
    "df['embedding'] = df['tokens'].apply(get_embedding)"
   ]
  },
  {
   "cell_type": "code",
   "execution_count": null,
   "id": "af6914a6-ae8c-4ca8-928a-f97d05d87857",
   "metadata": {},
   "outputs": [],
   "source": [
    "x = np.vstack(df['embedding'].values)\n",
    "y = df['Label'].values"
   ]
  },
  {
   "cell_type": "code",
   "execution_count": null,
   "id": "07bd786d-f86f-4789-8b9b-83c94643e362",
   "metadata": {},
   "outputs": [],
   "source": [
    "df.head()"
   ]
  },
  {
   "cell_type": "markdown",
   "id": "f4711ef1-cf4f-4453-9ec2-3a74009ceb55",
   "metadata": {},
   "source": [
    "### Train traditional Machine learning algorithms"
   ]
  },
  {
   "cell_type": "code",
   "execution_count": null,
   "id": "d933bd87-9f17-4966-97b5-0e1b95a76b75",
   "metadata": {},
   "outputs": [],
   "source": [
    "from sklearn.model_selection import train_test_split"
   ]
  },
  {
   "cell_type": "code",
   "execution_count": null,
   "id": "93f1ed23-01b6-4212-86bc-3cb2906e9b94",
   "metadata": {},
   "outputs": [],
   "source": [
    "# Train/test split\n",
    "x_train, x_test, y_train, y_test = train_test_split(x, y, test_size=0.2, random_state=42)\n"
   ]
  },
  {
   "cell_type": "code",
   "execution_count": null,
   "id": "ae49df0b-83ea-4d29-af99-65d844192c4b",
   "metadata": {},
   "outputs": [],
   "source": [
    "import xgboost as xgb"
   ]
  },
  {
   "cell_type": "code",
   "execution_count": null,
   "id": "824a2f3a-ff7f-4a81-891e-e601da894674",
   "metadata": {},
   "outputs": [],
   "source": [
    "# Train XGBoost\n",
    "model_xgb = xgb.XGBClassifier(use_label_encoder=False, eval_metric='logloss')"
   ]
  },
  {
   "cell_type": "code",
   "execution_count": null,
   "id": "fee09878-5770-4710-8b23-3a5e4e18b141",
   "metadata": {},
   "outputs": [],
   "source": [
    "# model_xgb.fit(X_train, y_train)"
   ]
  },
  {
   "cell_type": "code",
   "execution_count": null,
   "id": "5196cd09-e917-4ed4-9d1b-8784de3ccc82",
   "metadata": {},
   "outputs": [],
   "source": []
  },
  {
   "cell_type": "markdown",
   "id": "8096b022-05dc-4cc2-ba4b-e03397e34433",
   "metadata": {},
   "source": [
    "### LLM Model Training"
   ]
  },
  {
   "cell_type": "code",
   "execution_count": 3,
   "id": "ad51ede2-998c-4c10-b0d5-46acf3a7e1b6",
   "metadata": {},
   "outputs": [],
   "source": [
    "data = df[['URL', 'Label']]"
   ]
  },
  {
   "cell_type": "code",
   "execution_count": 4,
   "id": "30277d24-422c-4c8b-8287-fe5592a016aa",
   "metadata": {},
   "outputs": [
    {
     "data": {
      "text/html": [
       "<div>\n",
       "<style scoped>\n",
       "    .dataframe tbody tr th:only-of-type {\n",
       "        vertical-align: middle;\n",
       "    }\n",
       "\n",
       "    .dataframe tbody tr th {\n",
       "        vertical-align: top;\n",
       "    }\n",
       "\n",
       "    .dataframe thead th {\n",
       "        text-align: right;\n",
       "    }\n",
       "</style>\n",
       "<table border=\"1\" class=\"dataframe\">\n",
       "  <thead>\n",
       "    <tr style=\"text-align: right;\">\n",
       "      <th></th>\n",
       "      <th>URL</th>\n",
       "      <th>Label</th>\n",
       "    </tr>\n",
       "  </thead>\n",
       "  <tbody>\n",
       "    <tr>\n",
       "      <th>0</th>\n",
       "      <td>nobell.it/70ffb52d079109dca5664cce6f317373782/...</td>\n",
       "      <td>bad</td>\n",
       "    </tr>\n",
       "    <tr>\n",
       "      <th>1</th>\n",
       "      <td>www.dghjdgf.com/paypal.co.uk/cycgi-bin/webscrc...</td>\n",
       "      <td>bad</td>\n",
       "    </tr>\n",
       "    <tr>\n",
       "      <th>2</th>\n",
       "      <td>serviciosbys.com/paypal.cgi.bin.get-into.herf....</td>\n",
       "      <td>bad</td>\n",
       "    </tr>\n",
       "    <tr>\n",
       "      <th>3</th>\n",
       "      <td>mail.printakid.com/www.online.americanexpress....</td>\n",
       "      <td>bad</td>\n",
       "    </tr>\n",
       "    <tr>\n",
       "      <th>4</th>\n",
       "      <td>thewhiskeydregs.com/wp-content/themes/widescre...</td>\n",
       "      <td>bad</td>\n",
       "    </tr>\n",
       "  </tbody>\n",
       "</table>\n",
       "</div>"
      ],
      "text/plain": [
       "                                                 URL Label\n",
       "0  nobell.it/70ffb52d079109dca5664cce6f317373782/...   bad\n",
       "1  www.dghjdgf.com/paypal.co.uk/cycgi-bin/webscrc...   bad\n",
       "2  serviciosbys.com/paypal.cgi.bin.get-into.herf....   bad\n",
       "3  mail.printakid.com/www.online.americanexpress....   bad\n",
       "4  thewhiskeydregs.com/wp-content/themes/widescre...   bad"
      ]
     },
     "execution_count": 4,
     "metadata": {},
     "output_type": "execute_result"
    }
   ],
   "source": [
    "data.head()"
   ]
  },
  {
   "cell_type": "code",
   "execution_count": 5,
   "id": "f81b68e3-2381-4b0c-8997-9e34666d6d15",
   "metadata": {},
   "outputs": [],
   "source": [
    "data['Label'] = data['Label'].map({'good': 0, 'bad': 1})"
   ]
  },
  {
   "cell_type": "code",
   "execution_count": 6,
   "id": "f4afd222-96e7-43a6-b3c2-5740d05d7459",
   "metadata": {},
   "outputs": [],
   "source": [
    "data.rename(columns={'Label': 'label'}, inplace=True)"
   ]
  },
  {
   "cell_type": "code",
   "execution_count": null,
   "id": "18a73f3b-1d9c-44b4-bcad-9848280b81fa",
   "metadata": {},
   "outputs": [],
   "source": []
  },
  {
   "cell_type": "code",
   "execution_count": 7,
   "id": "a94ee541-7b36-44a6-8510-cc4e94333545",
   "metadata": {},
   "outputs": [],
   "source": [
    "from transformers import AutoTokenizer, AutoModelForSequenceClassification, Trainer, TrainingArguments\n",
    "from datasets import load_dataset, Dataset\n",
    "import pandas as pd"
   ]
  },
  {
   "cell_type": "code",
   "execution_count": 8,
   "id": "d229c744-7d63-451d-99e5-10311a2e65ab",
   "metadata": {},
   "outputs": [],
   "source": [
    "# Convert to HuggingFace Dataset\n",
    "dataset = Dataset.from_pandas(data)"
   ]
  },
  {
   "cell_type": "code",
   "execution_count": 9,
   "id": "855dc20e-f59e-4b66-85d3-c2fa1a44c76d",
   "metadata": {},
   "outputs": [
    {
     "name": "stderr",
     "output_type": "stream",
     "text": [
      "Some weights of RobertaForSequenceClassification were not initialized from the model checkpoint at roberta-base and are newly initialized: ['classifier.dense.bias', 'classifier.dense.weight', 'classifier.out_proj.bias', 'classifier.out_proj.weight']\n",
      "You should probably TRAIN this model on a down-stream task to be able to use it for predictions and inference.\n"
     ]
    }
   ],
   "source": [
    "tokenizer = AutoTokenizer.from_pretrained('roberta-base')\n",
    "model = AutoModelForSequenceClassification.from_pretrained('roberta-base', num_labels=2)"
   ]
  },
  {
   "cell_type": "code",
   "execution_count": 10,
   "id": "f1337803-23d0-46b3-9dc6-87ae6d3b606b",
   "metadata": {},
   "outputs": [],
   "source": [
    "def tokenize(example):\n",
    "    return tokenizer(example['URL'], truncation=True, padding='max_length')"
   ]
  },
  {
   "cell_type": "code",
   "execution_count": 11,
   "id": "8fb9f1b9-2d39-47ba-b73c-79682528beae",
   "metadata": {},
   "outputs": [
    {
     "data": {
      "application/vnd.jupyter.widget-view+json": {
       "model_id": "ba9a6bd68dca424fa6423c0c5b5b4895",
       "version_major": 2,
       "version_minor": 0
      },
      "text/plain": [
       "Map:   0%|          | 0/549346 [00:00<?, ? examples/s]"
      ]
     },
     "metadata": {},
     "output_type": "display_data"
    }
   ],
   "source": [
    "dataset = dataset.map(tokenize, batched=True)\n",
    "dataset = dataset.train_test_split(test_size=0.01)"
   ]
  },
  {
   "cell_type": "code",
   "execution_count": null,
   "id": "62d5839d-7bcb-40cd-aa83-53b5c24af986",
   "metadata": {},
   "outputs": [],
   "source": []
  },
  {
   "cell_type": "raw",
   "id": "1aa798ac-723a-45cb-aa9c-e891aca16055",
   "metadata": {},
   "source": [
    "Change evaluation_strategy=\"\" to eval_strategy=\"\"\n",
    "As evaluation_strategy has been deprecated since version 4.46 of the Hugging Face Transformers library (see #30190) and will be removed in future releases."
   ]
  },
  {
   "cell_type": "code",
   "execution_count": 12,
   "id": "ae20d1de-d7e7-4262-89b8-31f25e05094b",
   "metadata": {},
   "outputs": [],
   "source": [
    "training_args = TrainingArguments(\n",
    "    output_dir=\"./results\",\n",
    "    eval_strategy=\"epoch\",\n",
    "    per_device_train_batch_size=16,\n",
    "    per_device_eval_batch_size=16,\n",
    "    num_train_epochs=4,\n",
    "    weight_decay=0.01,\n",
    ")"
   ]
  },
  {
   "cell_type": "code",
   "execution_count": 13,
   "id": "9dc3f344-7c5b-4efb-a2aa-37e539260115",
   "metadata": {},
   "outputs": [],
   "source": [
    "trainer = Trainer(\n",
    "    model=model,\n",
    "    args=training_args,\n",
    "    train_dataset=dataset['train'],\n",
    "    eval_dataset=dataset['test'],\n",
    ")"
   ]
  },
  {
   "cell_type": "code",
   "execution_count": null,
   "id": "f8ff1c26-bca1-4ba6-ab63-06d08493c94a",
   "metadata": {},
   "outputs": [
    {
     "data": {
      "text/html": [
       "\n",
       "    <div>\n",
       "      \n",
       "      <progress value='11' max='135964' style='width:300px; height:20px; vertical-align: middle;'></progress>\n",
       "      [    11/135964 04:51 < 1222:34:52, 0.03 it/s, Epoch 0.00/4]\n",
       "    </div>\n",
       "    <table border=\"1\" class=\"dataframe\">\n",
       "  <thead>\n",
       " <tr style=\"text-align: left;\">\n",
       "      <th>Epoch</th>\n",
       "      <th>Training Loss</th>\n",
       "      <th>Validation Loss</th>\n",
       "    </tr>\n",
       "  </thead>\n",
       "  <tbody>\n",
       "  </tbody>\n",
       "</table><p>"
      ],
      "text/plain": [
       "<IPython.core.display.HTML object>"
      ]
     },
     "metadata": {},
     "output_type": "display_data"
    }
   ],
   "source": [
    "trainer.train()"
   ]
  },
  {
   "cell_type": "code",
   "execution_count": null,
   "id": "ba655d26-ceee-4fde-b1ec-001abc39d1d6",
   "metadata": {},
   "outputs": [],
   "source": []
  },
  {
   "cell_type": "code",
   "execution_count": null,
   "id": "a509e647-b4b5-4f6d-9c2a-474838b41ae1",
   "metadata": {},
   "outputs": [],
   "source": []
  },
  {
   "cell_type": "code",
   "execution_count": null,
   "id": "5a9d87fe-e20e-4253-8a49-7c06b4a0b532",
   "metadata": {},
   "outputs": [],
   "source": [
    "# Save model\n",
    "model.save_pretrained(\"phishing_model\")\n",
    "tokenizer.save_pretrained(\"phishing_model\")"
   ]
  },
  {
   "cell_type": "raw",
   "id": "8b32a799-e168-4c23-9ef9-73f68ef1b5b4",
   "metadata": {},
   "source": [
    "This creates a phishing_model/ folder with:\n",
    "pytorch_model.bin (the model weights)\n",
    "config.json\n",
    "tokenizer.json, vocab.json, etc."
   ]
  },
  {
   "cell_type": "code",
   "execution_count": null,
   "id": "b7dab852-acd8-4374-bd62-6986cdc3206d",
   "metadata": {},
   "outputs": [],
   "source": [
    "# Load model\n",
    "from transformers import AutoTokenizer, AutoModelForSequenceClassification\n",
    "\n",
    "model = AutoModelForSequenceClassification.from_pretrained(\"phishing_model\")\n",
    "tokenizer = AutoTokenizer.from_pretrained(\"phishing_model\")"
   ]
  },
  {
   "cell_type": "code",
   "execution_count": null,
   "id": "c7d68d4e-ddf5-42c8-b946-83fd36caa674",
   "metadata": {},
   "outputs": [],
   "source": [
    "# prediction\n",
    "import torch\n",
    "\n",
    "urls = [\"http://phishy.site\", \"https://secure.bank.com\"]\n",
    "inputs = tokenizer(urls, padding=True, truncation=True, return_tensors=\"pt\")\n",
    "\n",
    "with torch.no_grad():\n",
    "    outputs = model(**inputs)\n",
    "\n",
    "logits = outputs.logits\n",
    "predictions = torch.argmax(logits, dim=1)\n",
    "print(predictions)  # tensor([1, 0]) → bad, good"
   ]
  },
  {
   "cell_type": "code",
   "execution_count": null,
   "id": "056a57a8-dc1a-41c7-b4e2-cc1c1c7667a1",
   "metadata": {},
   "outputs": [],
   "source": [
    "# Get label back\n",
    "id2label = {0: 'good', 1: 'bad'}\n",
    "pred_labels = [id2label[int(pred)] for pred in predictions]\n",
    "print(pred_labels)"
   ]
  },
  {
   "cell_type": "code",
   "execution_count": null,
   "id": "12071b0d-6e8e-42c9-889f-a3b144835e2a",
   "metadata": {},
   "outputs": [],
   "source": []
  }
 ],
 "metadata": {
  "kernelspec": {
   "display_name": "Python 3 (ipykernel)",
   "language": "python",
   "name": "python3"
  },
  "language_info": {
   "codemirror_mode": {
    "name": "ipython",
    "version": 3
   },
   "file_extension": ".py",
   "mimetype": "text/x-python",
   "name": "python",
   "nbconvert_exporter": "python",
   "pygments_lexer": "ipython3",
   "version": "3.9.10"
  }
 },
 "nbformat": 4,
 "nbformat_minor": 5
}
